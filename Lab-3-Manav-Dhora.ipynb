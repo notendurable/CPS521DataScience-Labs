{
 "cells": [
  {
   "cell_type": "markdown",
   "metadata": {},
   "source": [
    "# Assignment-2: Statistics and Probability Distribution\n",
    "\n",
    "Make a copy of `Assignment-2-Statistics and Probability Distributions.ipynb` python notebook and rename it to `Assignment-2-<YOUR_NAME>`. Read the exercises provided in the given python notebook. Write and execute your solution in the respective code shell. Submit your python notebook after completing all the exercises.\n",
    "\n",
    "Total Marks: **8**\n",
    "\n",
    "### HINT\n",
    "- Use `numpy` python library to find mean, median and standard deviation for the given sequence of numbers\n",
    "- Use `matplotlib` python library to plot the histogram \n",
    "\n",
    "### Excercise-1 ( 1 Mark)\n",
    "John tracked his lunch bills for the past 5 days. He paid `$15.10, $12.05, $20.05, $17.75 and $16.25`. What was the average amount John paid per meal?  Print the result with 2 decimal places.      "
   ]
  },
  {
   "cell_type": "code",
   "execution_count": 1,
   "metadata": {},
   "outputs": [
    {
     "name": "stdout",
     "output_type": "stream",
     "text": [
      "16.24\n"
     ]
    }
   ],
   "source": [
    "### Your solution goes here\n",
    "import numpy as np\n",
    "bills = [15.10, 12.05, 20.05, 17.75, 16.25]\n",
    "average_amount_paid = np.mean(bills)\n",
    "print(f'{average_amount_paid:.2f}')"
   ]
  },
  {
   "cell_type": "markdown",
   "metadata": {},
   "source": [
    "### Excercise-2 ( 1 Mark)\n",
    "\n",
    "Mark received the following scores in his `Graphic Design` tests. His final grade is based on the mean of those scores. What will be John's final grade in that course? Print the result with 0 decimal places.\n",
    "\n",
    "77, 84, 89, 78, 92\n"
   ]
  },
  {
   "cell_type": "code",
   "execution_count": 2,
   "metadata": {},
   "outputs": [
    {
     "name": "stdout",
     "output_type": "stream",
     "text": [
      "84\n"
     ]
    }
   ],
   "source": [
    "### Your solution goes here\n",
    "import numpy as np\n",
    "scores = [77, 84, 89, 78, 92]\n",
    "final_grade = np.mean(scores)\n",
    "print(f'{final_grade:.0f}')"
   ]
  },
  {
   "cell_type": "markdown",
   "metadata": {},
   "source": [
    "### Excercise-3 ( 1 Mark)\n",
    "Find the median and standard deviation for the set of numbers given in Excercise 1 and 2"
   ]
  },
  {
   "cell_type": "code",
   "execution_count": 12,
   "metadata": {},
   "outputs": [
    {
     "name": "stdout",
     "output_type": "stream",
     "text": [
      "Exercise 1:\n",
      "Median: 16.25\n",
      "Standard Deviation: 2.6702808841018952\n",
      "\n",
      "Exercise 2:\n",
      "Median: 84.0\n",
      "Standard Deviation: 5.89915248150105\n"
     ]
    }
   ],
   "source": [
    "### Your solution goes here\n",
    "import numpy as np\n",
    "\n",
    "# Exercise 1\n",
    "bills = [15.10, 12.05, 20.05, 17.75, 16.25]\n",
    "median_1 = np.median(bills)\n",
    "stdev_1 = np.std(bills)\n",
    "\n",
    "print('Exercise 1:')\n",
    "print(f'Median: {median_1}')\n",
    "print(f'Standard Deviation: {stdev_1}')\n",
    "print()\n",
    "\n",
    "# Exercise 2\n",
    "scores = [77, 84, 89, 78, 92]\n",
    "median_2 = np.median(scores)\n",
    "stdev_2 = np.std(scores)\n",
    "\n",
    "print('Exercise 2:')\n",
    "print(f'Median: {median_2}')\n",
    "print(f'Standard Deviation: {stdev_2}')"
   ]
  },
  {
   "cell_type": "markdown",
   "metadata": {},
   "source": [
    "### Excercise-4 ( 3 Marks)\n",
    "#### 4.1) Plot a histogram for the given below age of population with respect to bin.\n",
    "\n",
    "| Population Age | 22,55,62,45,18,21,22,16,34,42,42,4,2,102,42,95,85,55,110,14,50,120,70,65,55,111,115,80,75,65,54,44,43,42,48  |\n",
    "| ---------------|--------------------------------------------------------------------------------------------------------------|\n",
    "| Bin            | 0-10 10-20 30-40 40-50 50-60 60-70 70-80 80-90 90-100 100-110                                                |\n",
    "\n",
    "#### 4.2) Change the bin interval to 50 and replot the histogram\n",
    "#### 4.3) Which age group has more number of people?"
   ]
  },
  {
   "cell_type": "code",
   "execution_count": 1,
   "metadata": {},
   "outputs": [
    {
     "ename": "ModuleNotFoundError",
     "evalue": "No module named 'matplotlib'",
     "output_type": "error",
     "traceback": [
      "\u001b[1;31m---------------------------------------------------------------------------\u001b[0m",
      "\u001b[1;31mModuleNotFoundError\u001b[0m                       Traceback (most recent call last)",
      "Cell \u001b[1;32mIn[1], line 2\u001b[0m\n\u001b[0;32m      1\u001b[0m \u001b[39m### Your solution goes here\u001b[39;00m\n\u001b[1;32m----> 2\u001b[0m \u001b[39mfrom\u001b[39;00m \u001b[39mmatplotlib\u001b[39;00m \u001b[39mimport\u001b[39;00m pyplot \u001b[39mas\u001b[39;00m plt\n\u001b[0;32m      4\u001b[0m \u001b[39m# Exercise 4.1\u001b[39;00m\n\u001b[0;32m      5\u001b[0m population_age \u001b[39m=\u001b[39m [\u001b[39m22\u001b[39m,\u001b[39m55\u001b[39m,\u001b[39m62\u001b[39m,\u001b[39m45\u001b[39m,\u001b[39m18\u001b[39m,\u001b[39m21\u001b[39m,\u001b[39m22\u001b[39m,\u001b[39m16\u001b[39m,\u001b[39m34\u001b[39m,\u001b[39m42\u001b[39m,\u001b[39m42\u001b[39m,\u001b[39m4\u001b[39m,\u001b[39m2\u001b[39m,\u001b[39m102\u001b[39m,\u001b[39m42\u001b[39m,\u001b[39m95\u001b[39m,\u001b[39m85\u001b[39m,\u001b[39m55\u001b[39m,\u001b[39m110\u001b[39m,\u001b[39m14\u001b[39m,\u001b[39m50\u001b[39m,\u001b[39m120\u001b[39m,\u001b[39m70\u001b[39m,\u001b[39m65\u001b[39m,\u001b[39m55\u001b[39m,\u001b[39m111\u001b[39m,\u001b[39m115\u001b[39m,\u001b[39m80\u001b[39m,\u001b[39m75\u001b[39m,\u001b[39m65\u001b[39m,\u001b[39m54\u001b[39m,\u001b[39m44\u001b[39m,\u001b[39m43\u001b[39m,\u001b[39m42\u001b[39m,\u001b[39m48\u001b[39m]\n",
      "\u001b[1;31mModuleNotFoundError\u001b[0m: No module named 'matplotlib'"
     ]
    }
   ],
   "source": [
    "### Your solution goes here\n",
    "from matplotlib import pyplot as plt\n",
    "\n",
    "# Exercise 4.1\n",
    "population_age = [22,55,62,45,18,21,22,16,34,42,42,4,2,102,42,95,85,55,110,14,50,120,70,65,55,111,115,80,75,65,54,44,43,42,48]\n",
    "bins = [i for i in range(0, 120, 10)]\n",
    "\n",
    "plt.hist(population_age, bins=bins, edgecolor=(0,0,0))\n",
    "plt.xticks([10 * i for i in range(12)])\n",
    "plt.xlabel(\"Age\")\n",
    "plt.ylabel(\"Frequency\")\n",
    "plt.title(\"Distribution of Age\")\n",
    "plt.show()\n",
    "\n",
    "# Exercise 4.2\n",
    "bins = [i for i in range(0, 160, 50)]\n",
    "plt.hist(population_age, bins=bins, edgecolor=(0,0,0))\n",
    "plt.xticks([i for i in range(0, 160, 50)])\n",
    "plt.xlabel(\"Age\")\n",
    "plt.ylabel(\"Frequency\")\n",
    "plt.title(\"Distribution of Age\")\n",
    "plt.show()\n",
    "\n",
    "# Exercise 4.3\n",
    "\"\"\"\n",
    "The age group that has the most number of people is the 0 - 50 age group.\n",
    "\n",
    "\"\"\""
   ]
  },
  {
   "cell_type": "markdown",
   "metadata": {},
   "source": [
    "### Excercise-5 ( 1 Mark)\n",
    "Plot a cumulative distributive function (CDF) for the data given in excercise-4.1"
   ]
  },
  {
   "cell_type": "code",
   "execution_count": 3,
   "metadata": {},
   "outputs": [
    {
     "data": {
      "image/png": "[encoded data removed]",
      "text/plain": [
       "<Figure size 432x288 with 1 Axes>"
      ]
     },
     "metadata": {
      "needs_background": "light"
     },
     "output_type": "display_data"
    }
   ],
   "source": [
    "### Your solution goes here\n",
    "from matplotlib import pyplot as plt\n",
    "\n",
    "population_age = [22,55,62,45,18,21,22,16,34,42,42,4,2,102,42,95,85,55,110,14,50,120,70,65,55,111,115,80,75,65,54,44,43,42,48]\n",
    "bins = [i for i in range(0, 120, 10)]\n",
    "\n",
    "plt.hist(population_age, bins=bins, edgecolor=(0,0,0), cumulative=True)\n",
    "plt.xticks([10 * i for i in range(12)])\n",
    "plt.xlabel(\"Age\")\n",
    "plt.ylabel(\"Frequency\")\n",
    "plt.title(\"Distribution of Age\")\n",
    "plt.show()\n"
   ]
  },
  {
   "cell_type": "markdown",
   "metadata": {},
   "source": [
    "### Excercise-6 ( 1 Mark)\n",
    "Using `linespace` method from `numpy` library create *200* sample data between the interval *1 and 50*. Plot the **normal distribution** using `matplotlib` library for the sample data."
   ]
  },
  {
   "cell_type": "code",
   "execution_count": 44,
   "metadata": {},
   "outputs": [
    {
     "name": "stdout",
     "output_type": "stream",
     "text": [
      "25.5 14.215984704041\n"
     ]
    },
    {
     "data": {
      "image/png": "[encoded data removed]",
      "text/plain": [
       "<Figure size 432x288 with 1 Axes>"
      ]
     },
     "metadata": {
      "needs_background": "light"
     },
     "output_type": "display_data"
    }
   ],
   "source": [
    "### Your solution goes here\n",
    "import numpy as np\n",
    "from matplotlib import pyplot as plt\n",
    "from scipy.stats import norm\n",
    "\n",
    "nums = np.linspace(1, 50, num=200)\n",
    "\n",
    "mean = np.mean(nums)\n",
    "stdev = np.std(nums)\n",
    "print(mean, stdev)\n",
    "plt.plot(nums, norm.pdf(nums, mean, stdev))\n",
    "plt.show()"
   ]
  },
  {
   "cell_type": "code",
   "execution_count": null,
   "metadata": {},
   "outputs": [],
   "source": []
  }
 ],
 "metadata": {
  "kernelspec": {
   "display_name": "Python 3",
   "language": "python",
   "name": "python3"
  },
  "language_info": {
   "codemirror_mode": {
    "name": "ipython",
    "version": 3
   },
   "file_extension": ".py",
   "mimetype": "text/x-python",
   "name": "python",
   "nbconvert_exporter": "python",
   "pygments_lexer": "ipython3",
   "version": "3.10.9"
  },
  "vscode": {
   "interpreter": {
    "hash": "e5d079a0d2ebf50d9fc8ccf68b5dbaf696691c1ea5afe6233c6375d00a45cd44"
   }
  }
 },
 "nbformat": 4,
 "nbformat_minor": 5
}
