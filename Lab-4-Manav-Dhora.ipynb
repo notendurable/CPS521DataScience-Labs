{
 "cells": [
  {
   "cell_type": "markdown",
   "metadata": {},
   "source": [
    "# Lab 4-Regression Analysis"
   ]
  },
  {
   "cell_type": "markdown",
   "metadata": {},
   "source": [
    "## Exercise-1\n",
    "What linear regression equation best predicts statistics performance for the students assuming we have\n",
    "following data? If a student made an 80 on the test, what grade would we expect him to make in\n",
    "statistics? How well does the regression equation fit the data?"
   ]
  },
  {
   "cell_type": "markdown",
   "metadata": {},
   "source": [
    "\n",
    "|Student |test_score |statistics_grade|\n",
    "|--------|-----------|----------------|\n",
    "|1|95|85|\n",
    "|2|85|95|\n",
    "|3|80|70|\n",
    "|4|70|65|\n",
    "|5|60|70|"
   ]
  },
  {
   "cell_type": "code",
   "execution_count": 3,
   "metadata": {},
   "outputs": [
    {
     "ename": "ModuleNotFoundError",
     "evalue": "No module named 'pandas'",
     "output_type": "error",
     "traceback": [
      "\u001b[1;31m---------------------------------------------------------------------------\u001b[0m",
      "\u001b[1;31mModuleNotFoundError\u001b[0m                       Traceback (most recent call last)",
      "Cell \u001b[1;32mIn[3], line 2\u001b[0m\n\u001b[0;32m      1\u001b[0m \u001b[39m#Import\u001b[39;00m\n\u001b[1;32m----> 2\u001b[0m \u001b[39mimport\u001b[39;00m \u001b[39mpandas\u001b[39;00m \u001b[39mas\u001b[39;00m \u001b[39mpd\u001b[39;00m\n\u001b[0;32m      3\u001b[0m \u001b[39mfrom\u001b[39;00m \u001b[39mscipy\u001b[39;00m \u001b[39mimport\u001b[39;00m stats\n\u001b[0;32m      5\u001b[0m \u001b[39m#y=mx+b Linear slope eqs\u001b[39;00m\n\u001b[0;32m      6\u001b[0m \u001b[39m#Xi = scores on test\u001b[39;00m\n\u001b[0;32m      7\u001b[0m \u001b[39m#Yi = statistic grades\u001b[39;00m\n",
      "\u001b[1;31mModuleNotFoundError\u001b[0m: No module named 'pandas'"
     ]
    }
   ],
   "source": [
    "#Import*\n",
    "import pandas as pd\n",
    "from scipy import stats\n",
    "\n",
    "#y=mx+b Linear slope eqs\n",
    "#Xi = scores on test\n",
    "#Yi = statistic grades\n",
    "\n",
    "df = pd.read_csv('Dataset student_score.csv')\n",
    "df.columns = ['Student','test_score','statistics_grade']\n",
    "df.head()\n",
    "\n",
    "\n"
   ]
  },
  {
   "cell_type": "code",
   "execution_count": null,
   "metadata": {},
   "outputs": [
    {
     "name": "stdout",
     "output_type": "stream",
     "text": [
      "VALUES:\n",
      "slope: 0.6438356164383562 \n",
      "intercept: 26.78082191780822 \n",
      "r_value: 0.6930525298193004 \n",
      "p_value: 0.19446749009400915 \n",
      "std_err: 0.38664772840212874\n",
      "---------------------------------\n",
      "Linear regression equation (y=mx+b): y =  0.64 x +  26.78\n",
      "If a student got 80 on the test, we expect him to recieve  78.29  in the course\n"
     ]
    }
   ],
   "source": [
    "import matplotlib.pyplot as plt\n",
    "x = df['test_score']\n",
    "y = df['statistics_grade']\n",
    "\n",
    "slope, intercept,r_value,p_value, std_err = stats.linregress(x,y)\n",
    "print('VALUES:')\n",
    "print(\"slope:\",slope,'\\nintercept:', intercept,\"\\nr_value:\",r_value,\"\\np_value:\",p_value,\"\\nstd_err:\",std_err)\n",
    "print('---------------------------------')\n",
    "print(\"Linear regression equation (y=mx+b): y = \", round(slope,2), \"x + \", round(intercept,2))\n",
    "student_grade = slope*(80) + intercept\n",
    "print(\"If a student got 80 on the test, we expect him to recieve \",round(student_grade,2), \" in the course\")"
   ]
  },
  {
   "cell_type": "markdown",
   "metadata": {},
   "source": [
    "## Exercise-2\n",
    "Plot linear regression line for the data given in Exercise-1 using matplotlib library."
   ]
  },
  {
   "cell_type": "code",
   "execution_count": 4,
   "metadata": {},
   "outputs": [
    {
     "ename": "NameError",
     "evalue": "name 'np' is not defined",
     "output_type": "error",
     "traceback": [
      "\u001b[1;31m---------------------------------------------------------------------------\u001b[0m",
      "\u001b[1;31mNameError\u001b[0m                                 Traceback (most recent call last)",
      "Cell \u001b[1;32mIn[4], line 4\u001b[0m\n\u001b[0;32m      1\u001b[0m \u001b[39m#Xi = scores on test\u001b[39;00m\n\u001b[0;32m      2\u001b[0m \u001b[39m#Yi = statistic grades\u001b[39;00m\n\u001b[1;32m----> 4\u001b[0m x \u001b[39m=\u001b[39m np\u001b[39m.\u001b[39marray(df[\u001b[39m'\u001b[39m\u001b[39mtest_score\u001b[39m\u001b[39m'\u001b[39m])\n\u001b[0;32m      5\u001b[0m x \u001b[39m=\u001b[39mx\u001b[39m.\u001b[39mreshape((\u001b[39m-\u001b[39m\u001b[39m1\u001b[39m,\u001b[39m1\u001b[39m)) \n\u001b[0;32m      6\u001b[0m y \u001b[39m=\u001b[39m np\u001b[39m.\u001b[39marray(df[\u001b[39m'\u001b[39m\u001b[39mstatistics_grade\u001b[39m\u001b[39m'\u001b[39m])\n",
      "\u001b[1;31mNameError\u001b[0m: name 'np' is not defined"
     ]
    }
   ],
   "source": [
    "#Xi = scores on test\n",
    "#Yi = statistic grades\n",
    "\n",
    "x = np.array(df['test_score'])\n",
    "x =x.reshape((-1,1)) \n",
    "y = np.array(df['statistics_grade'])\n",
    "y = y.reshape((-1,1))\n",
    "\n",
    "model = LinearRegression().fit(x,y)\n",
    "y_pred = model.predict(x)\n",
    "plt.scatter(x,y, color='blue')\n",
    "plt.plot(x,y_pred,'--k',color='red',)\n",
    "plt.title('Test vs Statistics')\n",
    "plt.xlabel('Grade on Test')\n",
    "plt.ylabel('Final Grade in Course')\n",
    "plt.legend(['fitted line','data points'],loc =\"upper left\")\n",
    "plt.show()\n",
    "\n",
    "# Notice the positive correlation "
   ]
  },
  {
   "cell_type": "markdown",
   "metadata": {},
   "source": [
    "## Exercise-3\n",
    "Measure the R-squared value, goodness-of-fit for Exercise-1 linear regression model. <br>"
   ]
  },
  {
   "cell_type": "code",
   "execution_count": null,
   "metadata": {},
   "outputs": [
    {
     "name": "stdout",
     "output_type": "stream",
     "text": [
      "R-squared value=Coefficient of determination:  0.48\n",
      "R-squared value:  0.48\n"
     ]
    }
   ],
   "source": [
    "r_squared = model.score(x,y)\n",
    "print('R-squared value=Coefficient of determination: ', round(r_squared, 2))\n",
    "\n",
    "print(\"R-squared value: \", round(r_value * r_value,2))"
   ]
  },
  {
   "cell_type": "markdown",
   "metadata": {},
   "source": [
    "## Exercise-4\n",
    "Consider the following data: <br>\n",
    "Y: [16,4,1,9,1,25,16,4,0,9,25] <br>\n",
    "X: [-4,-2,1,3,-1,-5,4,2,0,-3,5] <br>\n",
    "\n",
    "3.1) Visualize the scatter plot for the above data using matplotlib library<br>\n",
    "3.2) What type of regression model is it?"
   ]
  },
  {
   "cell_type": "code",
   "execution_count": null,
   "metadata": {},
   "outputs": [
    {
     "data": {
      "image/png": "[encoded data removed]",
      "text/plain": [
       "<Figure size 432x288 with 1 Axes>"
      ]
     },
     "metadata": {
      "needs_background": "light"
     },
     "output_type": "display_data"
    },
    {
     "name": "stdout",
     "output_type": "stream",
     "text": [
      "The data can be modelled with quadratic regression\n"
     ]
    }
   ],
   "source": [
    "y = [16,4,1,9,1,25,16,4,0,9,25]\n",
    "x = [-4,-2,1,3,-1,-5,4,2,0,-3,5]\n",
    "\n",
    "plt.scatter(x,y)\n",
    "plt.show()\n",
    "\n",
    "print(\"The data can be modelled with quadratic regression\")"
   ]
  },
  {
   "cell_type": "markdown",
   "metadata": {},
   "source": [
    "\n",
    "\n",
    "\n"
   ]
  }
 ],
 "metadata": {
  "kernelspec": {
   "display_name": "Python 3",
   "language": "python",
   "name": "python3"
  },
  "language_info": {
   "codemirror_mode": {
    "name": "ipython",
    "version": 3
   },
   "file_extension": ".py",
   "mimetype": "text/x-python",
   "name": "python",
   "nbconvert_exporter": "python",
   "pygments_lexer": "ipython3",
   "version": "3.8.3"
  }
 },
 "nbformat": 4,
 "nbformat_minor": 4
}
